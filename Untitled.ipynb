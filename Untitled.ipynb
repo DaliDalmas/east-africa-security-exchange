{
 "cells": [
  {
   "cell_type": "markdown",
   "metadata": {},
   "source": [
    "# AEC security exchange"
   ]
  },
  {
   "cell_type": "code",
   "execution_count": 18,
   "metadata": {},
   "outputs": [],
   "source": [
    "from bs4 import BeautifulSoup as soup\n",
    "import urllib\n",
    "import pandas as pd\n",
    "from urllib.request import urlopen\n",
    "import os, ssl\n",
    "if (not os.environ.get('PYTHONHTTPSVERIFY', '') and getattr(ssl, '_create_unverified_context', None)):\n",
    "    ssl._create_default_https_context = ssl._create_unverified_context\n",
    "my_urls = {'ug':'https://www.use.or.ug/content/market-snapshot','ke':'https://www.nse.co.ke/market-statistics/equity-statistics.html?view=statistics',\n",
    "          'tz':\"https://www.dse.co.tz/dse/market-report\"}\n",
    "\n",
    "\n",
    "data = []\n",
    "for my_url in my_urls:\n",
    "    uClient = urlopen(my_urls[my_url])\n",
    "    html_page = uClient.read()\n",
    "    uClient.close()\n",
    "    soup_page = soup(html_page,\"html.parser\")\n",
    "    containers = soup_page.findAll(\"tbody\")\n",
    "    if my_url=='ug':\n",
    "        containers = containers[0].findAll(\"tr\")\n",
    "        for container in containers:\n",
    "            content = container.findAll('td')\n",
    "            data.append([content[0].a.text,content[1].text,content[2].text,'ug',3700.56])\n",
    "    elif my_url=='ke':\n",
    "        for container in containers[0].findAll(\"tr\",[\"row1\",\"row0\"]):\n",
    "            data.append([container.findAll(\"td\")[0].text,container.findAll(\"td\")[1].text,container.findAll(\"td\")[2].text,'ke',108.54])\n",
    "    else:\n",
    "        for container in containers[0].findAll('tr'):\n",
    "            container=container.findAll('td')\n",
    "            data.append([container[0].a.text,container[1].text,container[2].text,'tz',2319.70])\n",
    "df=pd.DataFrame(data)"
   ]
  },
  {
   "cell_type": "code",
   "execution_count": 19,
   "metadata": {},
   "outputs": [],
   "source": [
    "df.columns =['name','prev','last','country','usd_eqv']"
   ]
  },
  {
   "cell_type": "code",
   "execution_count": 20,
   "metadata": {},
   "outputs": [
    {
     "data": {
      "text/html": [
       "<div>\n",
       "<style scoped>\n",
       "    .dataframe tbody tr th:only-of-type {\n",
       "        vertical-align: middle;\n",
       "    }\n",
       "\n",
       "    .dataframe tbody tr th {\n",
       "        vertical-align: top;\n",
       "    }\n",
       "\n",
       "    .dataframe thead th {\n",
       "        text-align: right;\n",
       "    }\n",
       "</style>\n",
       "<table border=\"1\" class=\"dataframe\">\n",
       "  <thead>\n",
       "    <tr style=\"text-align: right;\">\n",
       "      <th></th>\n",
       "      <th>name</th>\n",
       "      <th>prev</th>\n",
       "      <th>last</th>\n",
       "      <th>country</th>\n",
       "      <th>usd_eqv</th>\n",
       "    </tr>\n",
       "  </thead>\n",
       "  <tbody>\n",
       "    <tr>\n",
       "      <th>0</th>\n",
       "      <td>BATU</td>\n",
       "      <td>30,000.00</td>\n",
       "      <td>30,000.00</td>\n",
       "      <td>ug</td>\n",
       "      <td>3700.56</td>\n",
       "    </tr>\n",
       "    <tr>\n",
       "      <th>1</th>\n",
       "      <td>BOBU</td>\n",
       "      <td>113.00</td>\n",
       "      <td>113.00</td>\n",
       "      <td>ug</td>\n",
       "      <td>3700.56</td>\n",
       "    </tr>\n",
       "    <tr>\n",
       "      <th>2</th>\n",
       "      <td>CENT</td>\n",
       "      <td>714.63</td>\n",
       "      <td>714.63</td>\n",
       "      <td>ug</td>\n",
       "      <td>3700.56</td>\n",
       "    </tr>\n",
       "    <tr>\n",
       "      <th>3</th>\n",
       "      <td>CQCIL</td>\n",
       "      <td>101.00</td>\n",
       "      <td>101.00</td>\n",
       "      <td>ug</td>\n",
       "      <td>3700.56</td>\n",
       "    </tr>\n",
       "    <tr>\n",
       "      <th>4</th>\n",
       "      <td>DFCU</td>\n",
       "      <td>638.00</td>\n",
       "      <td>639.00</td>\n",
       "      <td>ug</td>\n",
       "      <td>3700.56</td>\n",
       "    </tr>\n",
       "    <tr>\n",
       "      <th>...</th>\n",
       "      <td>...</td>\n",
       "      <td>...</td>\n",
       "      <td>...</td>\n",
       "      <td>...</td>\n",
       "      <td>...</td>\n",
       "    </tr>\n",
       "    <tr>\n",
       "      <th>100</th>\n",
       "      <td>TPCC</td>\n",
       "      <td>2,160</td>\n",
       "      <td>2,160</td>\n",
       "      <td>tz</td>\n",
       "      <td>2319.70</td>\n",
       "    </tr>\n",
       "    <tr>\n",
       "      <th>101</th>\n",
       "      <td>TTP</td>\n",
       "      <td>120</td>\n",
       "      <td>120</td>\n",
       "      <td>tz</td>\n",
       "      <td>2319.70</td>\n",
       "    </tr>\n",
       "    <tr>\n",
       "      <th>102</th>\n",
       "      <td>USL</td>\n",
       "      <td>5</td>\n",
       "      <td>5</td>\n",
       "      <td>tz</td>\n",
       "      <td>2319.70</td>\n",
       "    </tr>\n",
       "    <tr>\n",
       "      <th>103</th>\n",
       "      <td>VODA</td>\n",
       "      <td>850</td>\n",
       "      <td>850</td>\n",
       "      <td>tz</td>\n",
       "      <td>2319.70</td>\n",
       "    </tr>\n",
       "    <tr>\n",
       "      <th>104</th>\n",
       "      <td>YETU</td>\n",
       "      <td>550</td>\n",
       "      <td>550</td>\n",
       "      <td>tz</td>\n",
       "      <td>2319.70</td>\n",
       "    </tr>\n",
       "  </tbody>\n",
       "</table>\n",
       "<p>105 rows × 5 columns</p>\n",
       "</div>"
      ],
      "text/plain": [
       "      name       prev       last country  usd_eqv\n",
       "0     BATU  30,000.00  30,000.00      ug  3700.56\n",
       "1     BOBU     113.00     113.00      ug  3700.56\n",
       "2     CENT     714.63     714.63      ug  3700.56\n",
       "3    CQCIL     101.00     101.00      ug  3700.56\n",
       "4     DFCU     638.00     639.00      ug  3700.56\n",
       "..     ...        ...        ...     ...      ...\n",
       "100   TPCC      2,160      2,160      tz  2319.70\n",
       "101    TTP        120        120      tz  2319.70\n",
       "102    USL          5          5      tz  2319.70\n",
       "103   VODA        850        850      tz  2319.70\n",
       "104   YETU        550        550      tz  2319.70\n",
       "\n",
       "[105 rows x 5 columns]"
      ]
     },
     "execution_count": 20,
     "metadata": {},
     "output_type": "execute_result"
    }
   ],
   "source": [
    "df"
   ]
  },
  {
   "cell_type": "markdown",
   "metadata": {},
   "source": [
    "# getting data for exchange rates"
   ]
  },
  {
   "cell_type": "code",
   "execution_count": 7,
   "metadata": {},
   "outputs": [],
   "source": [
    "my_urls = {\n",
    "    'ke':'https://www.xe.com/currencyconverter/convert/?Amount=1&From=USD&To=KES',\n",
    "    'ug':'https://www.xe.com/currencyconverter/convert/?Amount=1&From=USD&To=KES',\n",
    "    'tz':'https://www.xe.com/currencyconverter/convert/?Amount=1&From=USD&To=KES'\n",
    "}"
   ]
  },
  {
   "cell_type": "code",
   "execution_count": 8,
   "metadata": {},
   "outputs": [],
   "source": [
    "uClient=urlopen('https://www.xe.com/currencyconverter/convert/?Amount=1&From=USD&To=KES')"
   ]
  },
  {
   "cell_type": "code",
   "execution_count": 9,
   "metadata": {},
   "outputs": [],
   "source": [
    "html_page = uClient.read()"
   ]
  },
  {
   "cell_type": "code",
   "execution_count": 10,
   "metadata": {},
   "outputs": [],
   "source": [
    "uClient.close()"
   ]
  },
  {
   "cell_type": "code",
   "execution_count": 11,
   "metadata": {},
   "outputs": [],
   "source": [
    "soup_page = soup(html_page,\"html.parser\")"
   ]
  },
  {
   "cell_type": "code",
   "execution_count": 14,
   "metadata": {},
   "outputs": [],
   "source": [
    "containers = soup_page.findAll(\"div\")"
   ]
  },
  {
   "cell_type": "code",
   "execution_count": 15,
   "metadata": {},
   "outputs": [
    {
     "data": {
      "text/plain": [
       "[<div id=\"reactContainer\"></div>]"
      ]
     },
     "execution_count": 15,
     "metadata": {},
     "output_type": "execute_result"
    }
   ],
   "source": [
    "containers"
   ]
  },
  {
   "cell_type": "code",
   "execution_count": null,
   "metadata": {},
   "outputs": [],
   "source": []
  }
 ],
 "metadata": {
  "kernelspec": {
   "display_name": "Python 3",
   "language": "python",
   "name": "python3"
  },
  "language_info": {
   "codemirror_mode": {
    "name": "ipython",
    "version": 3
   },
   "file_extension": ".py",
   "mimetype": "text/x-python",
   "name": "python",
   "nbconvert_exporter": "python",
   "pygments_lexer": "ipython3",
   "version": "3.8.5"
  }
 },
 "nbformat": 4,
 "nbformat_minor": 4
}
